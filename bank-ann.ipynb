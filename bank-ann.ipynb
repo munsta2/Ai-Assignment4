{
 "cells": [
  {
   "cell_type": "code",
   "execution_count": 12,
   "metadata": {},
   "outputs": [],
   "source": [
    "import pandas as pd\n",
    "import numpy as np\n",
    "import seaborn as sns\n",
    "\n",
    "import itertools\n",
    "\n",
    "from keras.models import Sequential\n",
    "from keras.layers import Dense, Flatten, Conv2D\n",
    "from keras.optimizers import Adam\n",
    "\n",
    "from tensorflow.keras.utils import to_categorical\n",
    "from keras import optimizers\n",
    "from sklearn.preprocessing import OneHotEncoder, StandardScaler, LabelEncoder\n",
    "\n",
    "from keras.datasets import mnist\n",
    "\n",
    "import matplotlib.pyplot as plt\n",
    "%matplotlib inline\n",
    "\n",
    "from sklearn.model_selection import train_test_split\n",
    "from sklearn.metrics import confusion_matrix\n",
    "\n",
    "import tensorflow as tf\n",
    "import random as rn\n",
    "\n",
    "import os"
   ]
  },
  {
   "cell_type": "code",
   "execution_count": 21,
   "metadata": {},
   "outputs": [
    {
     "name": "stdout",
     "output_type": "stream",
     "text": [
      "1784\n",
      "0\n",
      "0\n"
     ]
    },
    {
     "name": "stderr",
     "output_type": "stream",
     "text": [
      "c:\\Users\\Jesse\\anaconda3\\lib\\site-packages\\seaborn\\_decorators.py:36: FutureWarning: Pass the following variable as a keyword arg: x. From version 0.12, the only valid positional argument will be `data`, and passing other arguments without an explicit keyword will result in an error or misinterpretation.\n",
      "  warnings.warn(\n"
     ]
    },
    {
     "data": {
      "text/plain": [
       "<AxesSubplot:xlabel='y', ylabel='count'>"
      ]
     },
     "execution_count": 21,
     "metadata": {},
     "output_type": "execute_result"
    },
    {
     "data": {
      "image/png": "[encoded data removed]",
      "text/plain": [
       "<Figure size 432x288 with 1 Axes>"
      ]
     },
     "metadata": {
      "needs_background": "light"
     },
     "output_type": "display_data"
    }
   ],
   "source": [
    "#Load Data and review content\n",
    "baning_data = pd.read_csv(\"bank.csv\")\n",
    "\n",
    "# print(\"\\nLoaded Data :\\n------------------------------------\")\n",
    "# print(baning_data.head())\n",
    "np.random.seed(0)\n",
    "# baning_data.info()\n",
    "print(baning_data.duplicated().sum())\n",
    "baning_data.drop_duplicates(inplace=True)\n",
    "print(baning_data.duplicated().sum())\n",
    "print(baning_data.isnull().sum().sum())\n",
    "\n",
    "sns.countplot('y',data=baning_data)"
   ]
  },
  {
   "cell_type": "code",
   "execution_count": 33,
   "metadata": {},
   "outputs": [
    {
     "name": "stdout",
     "output_type": "stream",
     "text": [
      "(11821, 19)\n",
      "(27583, 19)\n",
      "(11821,)\n",
      "(27583,)\n"
     ]
    }
   ],
   "source": [
    "# baning_data.loan = baning_data.loan.map({'yes': 1, 'unknown': 0, 'no' : 0}).astype('uint8')\n",
    "# baning_data.housing = baning_data.housing.map({'yes': 1, 'unknown': 0, 'no' : 0}).astype('uint8')\n",
    "# baning_data.default = baning_data.default.map({'no': 1, 'unknown': 0, 'yes': 0}).astype('uint8')\n",
    "\n",
    "from sklearn.preprocessing import LabelEncoder\n",
    "le = LabelEncoder()\n",
    "for key in [\"age\", \"job\", \"marital\", \"education\", \"default\", \"housing\", \"loan\", \"contact\", \"month\", \"day_of_week\", \"poutcome\", \"y\"]:\n",
    "    baning_data[key] = le.fit_transform(baning_data[key])\n",
    "\n",
    "\n",
    "x = baning_data.iloc[:,:-1]\n",
    "y = baning_data.iloc[:,-1]\n",
    "\n",
    "scaler = StandardScaler()\n",
    "x_scaled = scaler.fit_transform(x)\n",
    "\n",
    "\n",
    "x_train,x_test,y_train,y_test = train_test_split(x_scaled,y,test_size=0.7)\n",
    "print(x_train.shape)\n",
    "print(x_test.shape)\n",
    "print(y_train.shape)\n",
    "print(y_test.shape)\n",
    "\n",
    "feature_train, feature_val, label_train, label_val = train_test_split(x_train, y_train, test_size = 0.1)\n"
   ]
  },
  {
   "cell_type": "code",
   "execution_count": 44,
   "metadata": {},
   "outputs": [
    {
     "name": "stdout",
     "output_type": "stream",
     "text": [
      "Model: \"sequential_5\"\n",
      "_________________________________________________________________\n",
      " Layer (type)                Output Shape              Param #   \n",
      "=================================================================\n",
      " input (Dense)               (None, 16)                320       \n",
      "                                                                 \n",
      " hidden_1 (Dense)            (None, 32)                544       \n",
      "                                                                 \n",
      " hidden_2 (Dense)            (None, 64)                2112      \n",
      "                                                                 \n",
      " output (Dense)              (None, 1)                 65        \n",
      "                                                                 \n",
      "=================================================================\n",
      "Total params: 3,041\n",
      "Trainable params: 3,041\n",
      "Non-trainable params: 0\n",
      "_________________________________________________________________\n",
      "None\n"
     ]
    }
   ],
   "source": [
    "model = Sequential()\n",
    "\n",
    "model.add(Dense(16, input_dim=19, activation='relu', name= 'input'))\n",
    "model.add(Dense(32, activation='relu', name= 'hidden_1'))\n",
    "model.add(Dense(64,  activation='relu', name= 'hidden_2'))\n",
    "# model.add(Dense(128, activation='relu', name= 'hidden_3'))\n",
    "# model.add(Dense(256,  activation='relu', name= 'hidden_4'))\n",
    "# model.add(Dense(512, activation='relu', name= 'hidden_5'))\n",
    "model.add(Dense(1, input_dim=16, activation='sigmoid', name= 'output'))\n",
    "\n",
    "print(model.summary())"
   ]
  },
  {
   "cell_type": "code",
   "execution_count": 45,
   "metadata": {},
   "outputs": [
    {
     "name": "stdout",
     "output_type": "stream",
     "text": [
      "Epoch 1/50\n",
      "61/61 [==============================] - 1s 3ms/step - loss: 0.4370 - accuracy: 0.8613 - val_loss: 0.3153 - val_accuracy: 0.8943\n",
      "Epoch 2/50\n",
      "61/61 [==============================] - 0s 1ms/step - loss: 0.3155 - accuracy: 0.8893 - val_loss: 0.2971 - val_accuracy: 0.8943\n",
      "Epoch 3/50\n",
      "61/61 [==============================] - 0s 1ms/step - loss: 0.3054 - accuracy: 0.8914 - val_loss: 0.2943 - val_accuracy: 0.8977\n",
      "Epoch 4/50\n",
      "61/61 [==============================] - 0s 1ms/step - loss: 0.3007 - accuracy: 0.8899 - val_loss: 0.2921 - val_accuracy: 0.8935\n",
      "Epoch 5/50\n",
      "61/61 [==============================] - 0s 2ms/step - loss: 0.2975 - accuracy: 0.8930 - val_loss: 0.2927 - val_accuracy: 0.8935\n",
      "Epoch 6/50\n",
      "61/61 [==============================] - 0s 1ms/step - loss: 0.2952 - accuracy: 0.8928 - val_loss: 0.2959 - val_accuracy: 0.8893\n",
      "Epoch 7/50\n",
      "61/61 [==============================] - 0s 1ms/step - loss: 0.2938 - accuracy: 0.8930 - val_loss: 0.2946 - val_accuracy: 0.8926\n",
      "Epoch 8/50\n",
      "61/61 [==============================] - 0s 1ms/step - loss: 0.2930 - accuracy: 0.8933 - val_loss: 0.2955 - val_accuracy: 0.8918\n",
      "Epoch 9/50\n",
      "61/61 [==============================] - 0s 1ms/step - loss: 0.2917 - accuracy: 0.8939 - val_loss: 0.2958 - val_accuracy: 0.8910\n",
      "Epoch 10/50\n",
      "61/61 [==============================] - 0s 1ms/step - loss: 0.2908 - accuracy: 0.8940 - val_loss: 0.2961 - val_accuracy: 0.8901\n",
      "Epoch 11/50\n",
      "61/61 [==============================] - 0s 1ms/step - loss: 0.2902 - accuracy: 0.8947 - val_loss: 0.2995 - val_accuracy: 0.8918\n",
      "Epoch 12/50\n",
      "61/61 [==============================] - 0s 1ms/step - loss: 0.2895 - accuracy: 0.8936 - val_loss: 0.2955 - val_accuracy: 0.8926\n",
      "Epoch 13/50\n",
      "61/61 [==============================] - 0s 1ms/step - loss: 0.2884 - accuracy: 0.8955 - val_loss: 0.2963 - val_accuracy: 0.8910\n",
      "Epoch 14/50\n",
      "61/61 [==============================] - 0s 1ms/step - loss: 0.2879 - accuracy: 0.8945 - val_loss: 0.2974 - val_accuracy: 0.8926\n",
      "Epoch 15/50\n",
      "61/61 [==============================] - 0s 1ms/step - loss: 0.2870 - accuracy: 0.8953 - val_loss: 0.2971 - val_accuracy: 0.8884\n",
      "Epoch 16/50\n",
      "61/61 [==============================] - 0s 1ms/step - loss: 0.2867 - accuracy: 0.8944 - val_loss: 0.2981 - val_accuracy: 0.8926\n",
      "Epoch 17/50\n",
      "61/61 [==============================] - 0s 1ms/step - loss: 0.2858 - accuracy: 0.8951 - val_loss: 0.2989 - val_accuracy: 0.8800\n",
      "Epoch 18/50\n",
      "61/61 [==============================] - 0s 1ms/step - loss: 0.2852 - accuracy: 0.8947 - val_loss: 0.2970 - val_accuracy: 0.8884\n",
      "Epoch 19/50\n",
      "61/61 [==============================] - 0s 1ms/step - loss: 0.2839 - accuracy: 0.8962 - val_loss: 0.2984 - val_accuracy: 0.8884\n",
      "Epoch 20/50\n",
      "61/61 [==============================] - 0s 1ms/step - loss: 0.2838 - accuracy: 0.8962 - val_loss: 0.3016 - val_accuracy: 0.8910\n",
      "Epoch 21/50\n",
      "61/61 [==============================] - 0s 1ms/step - loss: 0.2832 - accuracy: 0.8974 - val_loss: 0.2990 - val_accuracy: 0.8842\n",
      "Epoch 22/50\n",
      "61/61 [==============================] - 0s 1ms/step - loss: 0.2827 - accuracy: 0.8963 - val_loss: 0.2991 - val_accuracy: 0.8850\n",
      "Epoch 23/50\n",
      "61/61 [==============================] - 0s 1ms/step - loss: 0.2814 - accuracy: 0.8966 - val_loss: 0.2993 - val_accuracy: 0.8825\n",
      "Epoch 24/50\n",
      "61/61 [==============================] - 0s 1ms/step - loss: 0.2814 - accuracy: 0.8980 - val_loss: 0.2981 - val_accuracy: 0.8842\n",
      "Epoch 25/50\n",
      "61/61 [==============================] - 0s 1ms/step - loss: 0.2801 - accuracy: 0.8978 - val_loss: 0.3002 - val_accuracy: 0.8850\n",
      "Epoch 26/50\n",
      "61/61 [==============================] - 0s 1ms/step - loss: 0.2795 - accuracy: 0.8973 - val_loss: 0.3013 - val_accuracy: 0.8850\n",
      "Epoch 27/50\n",
      "61/61 [==============================] - 0s 2ms/step - loss: 0.2785 - accuracy: 0.8975 - val_loss: 0.3017 - val_accuracy: 0.8817\n",
      "Epoch 28/50\n",
      "61/61 [==============================] - 0s 2ms/step - loss: 0.2789 - accuracy: 0.8977 - val_loss: 0.3003 - val_accuracy: 0.8808\n",
      "Epoch 29/50\n",
      "61/61 [==============================] - 0s 1ms/step - loss: 0.2773 - accuracy: 0.8977 - val_loss: 0.3019 - val_accuracy: 0.8825\n",
      "Epoch 30/50\n",
      "61/61 [==============================] - 0s 1ms/step - loss: 0.2778 - accuracy: 0.8985 - val_loss: 0.3029 - val_accuracy: 0.8833\n",
      "Epoch 31/50\n",
      "61/61 [==============================] - 0s 1ms/step - loss: 0.2767 - accuracy: 0.8978 - val_loss: 0.3027 - val_accuracy: 0.8833\n",
      "Epoch 32/50\n",
      "61/61 [==============================] - 0s 1ms/step - loss: 0.2761 - accuracy: 0.8978 - val_loss: 0.3033 - val_accuracy: 0.8842\n",
      "Epoch 33/50\n",
      "61/61 [==============================] - 0s 1ms/step - loss: 0.2755 - accuracy: 0.8981 - val_loss: 0.3051 - val_accuracy: 0.8825\n",
      "Epoch 34/50\n",
      "61/61 [==============================] - 0s 1ms/step - loss: 0.2754 - accuracy: 0.8982 - val_loss: 0.3040 - val_accuracy: 0.8825\n",
      "Epoch 35/50\n",
      "61/61 [==============================] - 0s 1ms/step - loss: 0.2745 - accuracy: 0.8985 - val_loss: 0.3019 - val_accuracy: 0.8825\n",
      "Epoch 36/50\n",
      "61/61 [==============================] - 0s 1ms/step - loss: 0.2735 - accuracy: 0.8981 - val_loss: 0.3045 - val_accuracy: 0.8817\n",
      "Epoch 37/50\n",
      "61/61 [==============================] - 0s 1ms/step - loss: 0.2729 - accuracy: 0.8986 - val_loss: 0.3031 - val_accuracy: 0.8859\n",
      "Epoch 38/50\n",
      "61/61 [==============================] - 0s 1ms/step - loss: 0.2727 - accuracy: 0.8995 - val_loss: 0.3020 - val_accuracy: 0.8842\n",
      "Epoch 39/50\n",
      "61/61 [==============================] - 0s 1ms/step - loss: 0.2725 - accuracy: 0.8989 - val_loss: 0.3044 - val_accuracy: 0.8859\n",
      "Epoch 40/50\n",
      "61/61 [==============================] - 0s 1ms/step - loss: 0.2719 - accuracy: 0.8990 - val_loss: 0.3032 - val_accuracy: 0.8833\n",
      "Epoch 41/50\n",
      "61/61 [==============================] - 0s 1ms/step - loss: 0.2719 - accuracy: 0.8983 - val_loss: 0.3026 - val_accuracy: 0.8859\n",
      "Epoch 42/50\n",
      "61/61 [==============================] - 0s 2ms/step - loss: 0.2717 - accuracy: 0.8990 - val_loss: 0.3036 - val_accuracy: 0.8850\n",
      "Epoch 43/50\n",
      "61/61 [==============================] - 0s 1ms/step - loss: 0.2699 - accuracy: 0.9004 - val_loss: 0.3058 - val_accuracy: 0.8867\n",
      "Epoch 44/50\n",
      "61/61 [==============================] - 0s 1ms/step - loss: 0.2701 - accuracy: 0.8990 - val_loss: 0.3043 - val_accuracy: 0.8842\n",
      "Epoch 45/50\n",
      "61/61 [==============================] - 0s 1ms/step - loss: 0.2689 - accuracy: 0.9011 - val_loss: 0.3046 - val_accuracy: 0.8833\n",
      "Epoch 46/50\n",
      "61/61 [==============================] - 0s 1ms/step - loss: 0.2692 - accuracy: 0.9008 - val_loss: 0.3049 - val_accuracy: 0.8842\n",
      "Epoch 47/50\n",
      "61/61 [==============================] - 0s 1ms/step - loss: 0.2681 - accuracy: 0.9011 - val_loss: 0.3045 - val_accuracy: 0.8884\n",
      "Epoch 48/50\n",
      "61/61 [==============================] - 0s 1ms/step - loss: 0.2676 - accuracy: 0.9003 - val_loss: 0.3056 - val_accuracy: 0.8833\n",
      "Epoch 49/50\n",
      "61/61 [==============================] - 0s 1ms/step - loss: 0.2665 - accuracy: 0.9011 - val_loss: 0.3049 - val_accuracy: 0.8876\n",
      "Epoch 50/50\n",
      "61/61 [==============================] - 0s 1ms/step - loss: 0.2659 - accuracy: 0.9021 - val_loss: 0.3040 - val_accuracy: 0.8876\n"
     ]
    }
   ],
   "source": [
    "opt = Adam(learning_rate= 0.001)\n",
    "model.compile(optimizer=opt, loss='binary_crossentropy', metrics= ['accuracy'])\n",
    "\n",
    "training_results = model.fit(feature_train, label_train, verbose=1, batch_size=175, epochs=50 , validation_data= (feature_val,label_val))"
   ]
  },
  {
   "cell_type": "code",
   "execution_count": 46,
   "metadata": {},
   "outputs": [
    {
     "name": "stdout",
     "output_type": "stream",
     "text": [
      "dict_keys(['loss', 'accuracy', 'val_loss', 'val_accuracy'])\n"
     ]
    },
    {
     "data": {
      "image/png": "[encoded data removed]",
      "text/plain": [
       "<Figure size 432x288 with 1 Axes>"
      ]
     },
     "metadata": {
      "needs_background": "light"
     },
     "output_type": "display_data"
    },
    {
     "data": {
      "image/png": "[encoded data removed]",
      "text/plain": [
       "<Figure size 432x288 with 1 Axes>"
      ]
     },
     "metadata": {
      "needs_background": "light"
     },
     "output_type": "display_data"
    }
   ],
   "source": [
    "# list all data in history\n",
    "print(training_results.history.keys())\n",
    "#summarize history for accuracy\n",
    "#plt.figure(figsize=(20,20))\n",
    "plt.plot(training_results.history['accuracy'])\n",
    "plt.plot(training_results.history['val_accuracy'])\n",
    "plt.title('model accuracy')\n",
    "plt.ylabel('accuracy')\n",
    "plt.xlabel('epoch')\n",
    "plt.legend(['train', 'test'], loc='upper left')\n",
    "plt.show()\n",
    "# summarize history for loss\n",
    "plt.plot(training_results.history['loss'])\n",
    "plt.plot(training_results.history['val_loss'])\n",
    "plt.title('model loss')\n",
    "plt.ylabel('loss')\n",
    "plt.xlabel('epoch')\n",
    "plt.legend(['train', 'test'], loc='upper left')\n",
    "plt.show()"
   ]
  },
  {
   "cell_type": "code",
   "execution_count": 47,
   "metadata": {},
   "outputs": [
    {
     "name": "stdout",
     "output_type": "stream",
     "text": [
      "862/862 [==============================] - 1s 783us/step - loss: 0.2950 - accuracy: 0.8950\n"
     ]
    },
    {
     "data": {
      "text/plain": [
       "[0.29498419165611267, 0.8950440287590027]"
      ]
     },
     "execution_count": 47,
     "metadata": {},
     "output_type": "execute_result"
    }
   ],
   "source": [
    "results = model.evaluate(x_test, y_test)\n",
    "results"
   ]
  }
 ],
 "metadata": {
  "kernelspec": {
   "display_name": "Python 3.8.5 ('base')",
   "language": "python",
   "name": "python3"
  },
  "language_info": {
   "codemirror_mode": {
    "name": "ipython",
    "version": 3
   },
   "file_extension": ".py",
   "mimetype": "text/x-python",
   "name": "python",
   "nbconvert_exporter": "python",
   "pygments_lexer": "ipython3",
   "version": "3.8.5"
  },
  "orig_nbformat": 4,
  "vscode": {
   "interpreter": {
    "hash": "188217e3575a587e528f3573d3601ad940116c535ed800b8909a2afb65859ba7"
   }
  }
 },
 "nbformat": 4,
 "nbformat_minor": 2
}
